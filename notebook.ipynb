{
  "cells": [
    {
      "cell_type": "code",
      "source": [
        "s = {(\"accept\", 1, 5, 0), (\"accept\", 1, 4, 0), (\"accept\", 2, 5, 1)}\n",
        "p = 5\n",
        "a = \"accept\"\n",
        "setof(second, (_a, second, _p, _) in s)"
      ],
      "outputs": [
        {
          "output_type": "stream",
          "name": "stdout",
          "text": [
            "{1, 2}\n"
          ]
        }
      ],
      "execution_count": 7,
      "metadata": {}
    },
    {
      "cell_type": "code",
      "source": [
        "setof(x, x in {1,2,3})"
      ],
      "outputs": [
        {
          "output_type": "stream",
          "name": "stdout",
          "text": [
            "{1, 2, 3}\n"
          ]
        }
      ],
      "execution_count": 8,
      "metadata": {}
    }
  ],
  "metadata": {
    "kernelspec": {
      "name": "distalgo_kernel",
      "language": "text",
      "display_name": "DisAlgo"
    },
    "language_info": {
      "name": "Any text",
      "mimetype": "text/plain",
      "file_extension": ".da"
    },
    "kernel_info": {
      "name": "distalgo_kernel"
    },
    "nteract": {
      "version": "0.12.3"
    }
  },
  "nbformat": 4,
  "nbformat_minor": 2
}