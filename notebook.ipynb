{
  "cells": [
    {
      "cell_type": "code",
      "source": [
        "s = {1,2,3}"
      ],
      "outputs": [
        {
          "output_type": "stream",
          "name": "stdout",
          "text": []
        }
      ],
      "execution_count": 1,
      "metadata": {}
    },
    {
      "cell_type": "code",
      "source": [
        "type(s)"
      ],
      "outputs": [
        {
          "output_type": "stream",
          "name": "stdout",
          "text": [
            "<class 'set'>\n"
          ]
        }
      ],
      "execution_count": 2,
      "metadata": {}
    },
    {
      "cell_type": "code",
      "source": [
        "import sys\n",
        "config(channel is fifo, clock is lamport)\n",
        "\n",
        "class P(process):\n",
        "    def setup(s:set, nrequests:int):  # s is set of all other processes\n",
        "        self.q = set()\n",
        "\n",
        "    def mutex(task):\n",
        "        -- request\n",
        "        c = logical_clock()\n",
        "        send(('request', c, self), to= s)\n",
        "        q.add(('request', c, self))\n",
        "        await(each(('request', c2, p) in q,\n",
        "                   has= (c2, p)==(c, self) or (c, self) < (c2, p)) and\n",
        "              each(p in s, has= some(received(('ack', c2, _p)), has= c2 > c)))\n",
        "        -- critical_section\n",
        "        task()\n",
        "        -- release\n",
        "        q.remove(('request', c, self))\n",
        "        send(('release', logical_clock(), self), to= s)\n",
        "\n",
        "    def receive(msg= ('request', c2, p)):\n",
        "        q.add(('request', c2, p))\n",
        "        send(('ack', logical_clock(), self), to= p)\n",
        "\n",
        "    def receive(msg= ('release', _, p)):\n",
        "#        q.remove(('request', _, p))  # pattern matching needed for _\n",
        "#        q.remove(anyof(setof(('request', c, p), ('request', c, _p) in q)))\n",
        "        for x in setof(('request', c, p), ('request', c, _p) in q):\n",
        "            q.remove(x)\n",
        "            break\n",
        "#        for ('request', c, _p) in q: q.remove('request', c, p); break\n",
        "#        for (tag, c, p2) in q:\n",
        "#            if tag == 'request' and p2 == p:\n",
        "#                q.remove((tag, c, p2)); break\n",
        "\n",
        "    def run():\n",
        "        def task():\n",
        "            output('in cs')\n",
        "        for i in range(nrequests):\n",
        "            mutex(task)\n",
        "\n",
        "        send(('done', self), to= parent())\n",
        "        await(received(('done',), from_=parent()))\n",
        "        output('terminating')"
      ],
      "outputs": [
        {
          "output_type": "stream",
          "name": "stdout",
          "text": []
        }
      ],
      "execution_count": 3,
      "metadata": {}
    },
    {
      "cell_type": "code",
      "source": [
        "nprocs = 2\n",
        "nrequests = 5\n",
        "\n",
        "class Node_(da.NodeProcess):\n",
        "\n",
        "    def __init__(self, procimpl, forwarder, **props):\n",
        "        super().__init__(procimpl, forwarder, **props)\n",
        "        self._events.extend([])\n",
        "\n",
        "    def run(self):\n",
        "        ps = new(P, num=nprocs)\n",
        "        print(ps)"
      ],
      "outputs": [
        {
          "output_type": "stream",
          "name": "stdout",
          "text": []
        }
      ],
      "execution_count": 4,
      "metadata": {}
    },
    {
      "cell_type": "code",
      "source": [
        "from da.common import global_init, initialize_runtime_options\n",
        "\nglobal_init([])"
      ],
      "outputs": [
        {
          "output_type": "stream",
          "name": "stdout",
          "text": [
            "Traceback (most recent call last):\n",
            "  File \"/Users/akshay/Projects/cse535/distalgo_kernel/distalgo_kernel/kernel.py\", line 36, in da_execute\n",
            "    exec_then_eval(code, ctx, ctx)\n",
            "  File \"/Users/akshay/Projects/cse535/distalgo_kernel/distalgo_kernel/kernel.py\", line 21, in exec_then_eval\n",
            "    exp = eval(compile(last, '<string>', mode='eval'), _globals, _locals)\n",
            "  File \"<string>\", line 3, in <module>\n",
            "  File \"/Users/akshay/Projects/cse535/distalgo/da/common.py\", line 228, in global_init\n",
            "    sysinit()\n",
            "  File \"/Users/akshay/Projects/cse535/distalgo/da/common.py\", line 209, in sysinit\n",
            "    pid_format = GlobalOptions['pid_format']\n",
            "KeyError: 'pid_format'\n",
            "\n"
          ]
        }
      ],
      "execution_count": 9,
      "metadata": {
        "collapsed": false,
        "outputHidden": false,
        "inputHidden": false
      }
    }
  ],
  "metadata": {
    "kernelspec": {
      "name": "distalgo",
      "language": "text",
      "display_name": "DisAlgo"
    },
    "language_info": {
      "name": "DistAlgo",
      "mimetype": "text/python",
      "file_extension": ".da"
    },
    "kernel_info": {
      "name": "distalgo"
    },
    "nteract": {
      "version": "0.12.3"
    }
  },
  "nbformat": 4,
  "nbformat_minor": 2
}